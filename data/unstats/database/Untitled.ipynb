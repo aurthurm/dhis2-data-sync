{
 "cells": [
  {
   "cell_type": "code",
   "execution_count": 4,
   "id": "859a9ff9-67e1-4bd6-8859-bb2eb697be88",
   "metadata": {},
   "outputs": [],
   "source": [
    "import pandas as pd"
   ]
  },
  {
   "cell_type": "code",
   "execution_count": 5,
   "id": "ec45ce18-4fcb-47b4-b7c7-b5ac7a42b38f",
   "metadata": {},
   "outputs": [],
   "source": [
    "sheets_subset = ['Goal1', 'Goal2', 'Goal3', 'Goal4', 'Goal5','Goal6', \n",
    " 'Goal7', 'Goal8', 'Goal9', 'Goal10', 'Goal11', 'Goal12', \n",
    " 'Goal13', 'Goal14', 'Goal15', 'Goal16', 'Goal17']\n",
    "\n",
    "column_subset = [\n",
    "    'Goal', 'Target', 'Indicator', 'SeriesCode', 'SeriesDescription',\n",
    "    'GeoAreaCode', 'GeoAreaName', 'TimePeriod', 'Value', 'Sex', 'Reporting Type', \n",
    "    'Observation Status', 'Units', 'Age', 'Nature']"
   ]
  },
  {
   "cell_type": "code",
   "execution_count": 8,
   "id": "0bc7a0e8-f278-40f6-a782-2e71f4cc7ed2",
   "metadata": {},
   "outputs": [],
   "source": [
    "sdgs = pd.read_excel(\"./data.xlsx\", sheet_name=sheets_subset, usecols=column_subset)"
   ]
  },
  {
   "cell_type": "code",
   "execution_count": 29,
   "id": "5dc91a6b-4633-4ca9-a4aa-3f78a18373b1",
   "metadata": {
    "scrolled": true
   },
   "outputs": [],
   "source": [
    "geet_goal = sdgs['Goal2']\n",
    "geet_goal.to_csv(\"./sss.csv\")\n",
    "geet_goal = geet_goal.sort_values(by=['GeoAreaName', 'TimePeriod'], ascending=False)\n",
    "datums = {}\n",
    "for _, row in geet_goal.iterrows():\n",
    "    if not row.Indicator in datums:\n",
    "        datums[row.Indicator] = []\n",
    "    if row.GeoAreaName == \"Jamaica\" and row.TimePeriod == 2021:\n",
    "        if str(row[\"Indicator\"]) in \"SDG 2 - 2.2.1 Prevalence xxxxx\":\n",
    "            datums[row.Indicator].append(dict(row))\n",
    "            # print(f\"{row.Goal} > {row.Target} > {row.Indicator} > {row.GeoAreaName} : {row.TimePeriod} ? {row.Value} ? {row.Sex}\")\n",
    "            # print(row.SeriesDescription)\n",
    "            "
   ]
  },
  {
   "cell_type": "code",
   "execution_count": 39,
   "id": "df25901b-8a57-4db4-a852-3f67da27efac",
   "metadata": {},
   "outputs": [
    {
     "data": {
      "text/plain": [
       "['Trinidad and Tobago', 'Barbados', 'Bahamas', 'Jamaica']"
      ]
     },
     "execution_count": 39,
     "metadata": {},
     "output_type": "execute_result"
    }
   ],
   "source": []
  },
  {
   "cell_type": "code",
   "execution_count": 45,
   "id": "6b85e018-a391-4d36-8d6a-048a8c483cb5",
   "metadata": {
    "scrolled": true
   },
   "outputs": [
    {
     "data": {
      "text/plain": [
       "[2020, 2021, 2022]"
      ]
     },
     "execution_count": 45,
     "metadata": {},
     "output_type": "execute_result"
    }
   ],
   "source": [
    "list(set(geet_goal[\"TimePeriod\"]))"
   ]
  },
  {
   "cell_type": "code",
   "execution_count": 42,
   "id": "8bdb20e2-c278-4137-952f-3db2dab17f23",
   "metadata": {},
   "outputs": [],
   "source": []
  },
  {
   "cell_type": "code",
   "execution_count": 43,
   "id": "5e5693a9-e8a0-4bb8-93a1-eb4d2102547c",
   "metadata": {},
   "outputs": [
    {
     "data": {
      "text/plain": [
       "2023"
      ]
     },
     "execution_count": 43,
     "metadata": {},
     "output_type": "execute_result"
    }
   ],
   "source": [
    "n = datetime.now()\n",
    "n.year"
   ]
  },
  {
   "cell_type": "code",
   "execution_count": 44,
   "id": "3be9df0c-4db1-4bca-a4e1-df1f5fa3c835",
   "metadata": {},
   "outputs": [
    {
     "data": {
      "text/plain": [
       "'2023'"
      ]
     },
     "execution_count": 44,
     "metadata": {},
     "output_type": "execute_result"
    }
   ],
   "source": [
    "str(datetime.now().year)"
   ]
  },
  {
   "cell_type": "code",
   "execution_count": null,
   "id": "fa853c44-adcb-4170-86c0-8b60292965e2",
   "metadata": {},
   "outputs": [],
   "source": []
  },
  {
   "cell_type": "code",
   "execution_count": 47,
   "id": "66628dbc-1533-4a69-b938-59c13d1bb3b6",
   "metadata": {},
   "outputs": [
    {
     "name": "stdout",
     "output_type": "stream",
     "text": [
      "[[1. 0.]\n",
      " [0. 1.]]\n"
     ]
    }
   ],
   "source": [
    "import sklearn\n",
    "from sklearn.feature_extraction.text import TfidfVectorizer\n",
    "from sklearn.metrics.pairwise import cosine_similarity\n",
    "\n",
    "# Convert the texts into TF-IDF vectors\n",
    "vectorizer = TfidfVectorizer()\n",
    "\n",
    "xx = [\"hie\", \"heloo\", \"how are you\"]\n",
    "y = \"wassup\"\n",
    "vectors = vectorizer.fit_transform([y, xx]])\n",
    "\n",
    "# Calculate the cosine similarity between the vectors\n",
    "similarity = cosine_similarity(vectors)\n",
    "print(similarity)"
   ]
  },
  {
   "cell_type": "code",
   "execution_count": 54,
   "id": "7b7cbe1a-928c-440e-8366-04775cc3a9fd",
   "metadata": {},
   "outputs": [
    {
     "name": "stdout",
     "output_type": "stream",
     "text": [
      "how are you\n"
     ]
    }
   ],
   "source": [
    "import sklearn\n",
    "from sklearn.feature_extraction.text import TfidfVectorizer\n",
    "from sklearn.metrics.pairwise import cosine_similarity\n",
    "\n",
    "# Convert the texts into TF-IDF vectors\n",
    "vectorizer = TfidfVectorizer()\n",
    "\n",
    "xx = [\"hie\", \"helo\", \"how are you\"]\n",
    "y = \"hello sam, where are you\"\n",
    "vectors = vectorizer.fit_transform([y] + xx)\n",
    "\n",
    "# Calculate the cosine similarity between the vectors\n",
    "similarity = cosine_similarity(vectors[0], vectors[1:])\n",
    "\n",
    "# Find the index of the string in 'xx' that has the highest similarity to 'y'\n",
    "most_similar_index = similarity.argmax()\n",
    "\n",
    "# Print the most similar string\n",
    "print(xx[most_similar_index])"
   ]
  },
  {
   "cell_type": "code",
   "execution_count": 55,
   "id": "b04f8b0c-c2b6-4823-857f-a0db3ba15f9b",
   "metadata": {},
   "outputs": [
    {
     "data": {
      "text/plain": [
       "2"
      ]
     },
     "execution_count": 55,
     "metadata": {},
     "output_type": "execute_result"
    }
   ],
   "source": [
    "most_similar_index"
   ]
  },
  {
   "cell_type": "code",
   "execution_count": 64,
   "id": "4f072f26-8775-4e76-ae51-5e21af8506f5",
   "metadata": {},
   "outputs": [
    {
     "data": {
      "text/plain": [
       "0.40295569751008087"
      ]
     },
     "execution_count": 64,
     "metadata": {},
     "output_type": "execute_result"
    }
   ],
   "source": [
    "similarity[0,most_similar_index]"
   ]
  },
  {
   "cell_type": "code",
   "execution_count": null,
   "id": "86d79dac-be8a-4755-9680-dffd317cf612",
   "metadata": {},
   "outputs": [],
   "source": []
  },
  {
   "cell_type": "code",
   "execution_count": null,
   "id": "e12f40f8-8a67-410c-bcab-6b04efdf8bc0",
   "metadata": {},
   "outputs": [],
   "source": []
  }
 ],
 "metadata": {
  "kernelspec": {
   "display_name": "Python 3 (ipykernel)",
   "language": "python",
   "name": "python3"
  },
  "language_info": {
   "codemirror_mode": {
    "name": "ipython",
    "version": 3
   },
   "file_extension": ".py",
   "mimetype": "text/x-python",
   "name": "python",
   "nbconvert_exporter": "python",
   "pygments_lexer": "ipython3",
   "version": "3.11.4"
  }
 },
 "nbformat": 4,
 "nbformat_minor": 5
}
